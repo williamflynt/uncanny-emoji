{
 "cells": [
  {
   "cell_type": "code",
   "execution_count": null,
   "id": "initial_id",
   "metadata": {
    "collapsed": true
   },
   "outputs": [],
   "source": [
    "import os\n",
    "\n",
    "import pandas as pd\n",
    "import torch\n",
    "import torch.nn as nn\n",
    "import torch.optim as optim\n",
    "import torchvision.transforms as transforms\n",
    "from PIL import Image\n",
    "from torch.utils.data import Dataset, DataLoader\n",
    "from torchvision.utils import save_image"
   ]
  },
  {
   "cell_type": "code",
   "execution_count": null,
   "outputs": [],
   "source": [
    "csv_file = 'data/full_emoji.csv'\n",
    "data = pd.read_csv(csv_file)\n",
    "data.sample(n=5)"
   ],
   "metadata": {
    "collapsed": false
   },
   "id": "ef183e548e2c8e9e"
  },
  {
   "cell_type": "code",
   "execution_count": null,
   "outputs": [],
   "source": [
    "def get_label_for_row(df: pd.DataFrame, idx:int) -> int:\n",
    "    return 1 if 'face' in df.loc[idx, \"name\"].lower() else 0\n",
    "\n",
    "print(get_label_for_row(data, 12))\n",
    "print(get_label_for_row(data, 1208))"
   ],
   "metadata": {
    "collapsed": false
   },
   "id": "22bb81b8075cc873"
  },
  {
   "cell_type": "code",
   "execution_count": null,
   "outputs": [],
   "source": [
    "class EmojiDataset(Dataset):\n",
    "    def __init__(self, img_dirs, csv_file, transform=None):\n",
    "        self.img_dirs = img_dirs\n",
    "        self.data = pd.read_csv(csv_file)\n",
    "        self.transform = transform\n",
    "\n",
    "    def __len__(self):\n",
    "        return len(self.data)\n",
    "\n",
    "    def __getitem__(self, idx):\n",
    "        img_id = self.data.iloc[idx, 0]\n",
    "        for img_dir in self.img_dirs:\n",
    "            img_path = os.path.join(img_dir, f'{img_id}.png')\n",
    "            if os.path.exists(img_path):\n",
    "                break\n",
    "        else:\n",
    "            raise FileNotFoundError(f'Image with ID {img_id} not found in any of the specified directories.')\n",
    "\n",
    "        label = get_label_for_row(self.data, idx)\n",
    "        image = Image.open(img_path).convert('RGB')\n",
    "\n",
    "        if self.transform:\n",
    "            image = self.transform(image)\n",
    "\n",
    "        return image, label"
   ],
   "metadata": {
    "collapsed": false
   },
   "id": "5ba593c5bc76cbb4"
  },
  {
   "cell_type": "code",
   "execution_count": null,
   "outputs": [],
   "source": [
    "transform = transforms.Compose([\n",
    "    transforms.Resize((64, 64)),\n",
    "    transforms.ToTensor(),\n",
    "    transforms.Normalize([0.5, 0.5, 0.5], [0.5, 0.5, 0.5])\n",
    "])\n",
    "\n",
    "img_dirs = [\n",
    "    'data/image/Apple',\n",
    "    'data/image/DoCoMo',\n",
    "    'data/image/Facebook',\n",
    "    'data/image/Gmail',\n",
    "    'data/image/Google',\n",
    "    'data/image/JoyPixels',\n",
    "    'data/image/KDDI',\n",
    "    'data/image/Samsung',\n",
    "    'data/image/SoftBank',\n",
    "    'data/image/Twitter',\n",
    "    'data/image/Windows'\n",
    "]\n",
    "csv_file = 'data/full_emoji.csv'\n",
    "dataset = EmojiDataset(img_dirs, csv_file, transform)\n",
    "dataloader = DataLoader(dataset, batch_size=16, shuffle=True)"
   ],
   "metadata": {
    "collapsed": false
   },
   "id": "94a7447f8c46b4c6"
  },
  {
   "cell_type": "code",
   "execution_count": null,
   "outputs": [],
   "source": [
    "class Generator(nn.Module):\n",
    "    def __init__(self, nz):\n",
    "        super(Generator, self).__init__()\n",
    "        self.main = nn.Sequential(\n",
    "            nn.ConvTranspose2d(nz, 1024, 4, 1, 0, bias=False),  # Output: (1024, 4, 4)\n",
    "            nn.BatchNorm2d(1024),\n",
    "            nn.ReLU(True),\n",
    "            nn.Dropout(0.3),\n",
    "            nn.ConvTranspose2d(1024, 512, 4, 2, 1, bias=False),  # Output: (512, 8, 8)\n",
    "            nn.BatchNorm2d(512),\n",
    "            nn.ReLU(True),\n",
    "            nn.Dropout(0.3),\n",
    "            nn.ConvTranspose2d(512, 256, 4, 2, 1, bias=False),  # Output: (256, 16, 16)\n",
    "            nn.BatchNorm2d(256),\n",
    "            nn.ReLU(True),\n",
    "            nn.Dropout(0.3),\n",
    "            nn.ConvTranspose2d(256, 128, 4, 2, 1, bias=False),  # Output: (128, 32, 32)\n",
    "            nn.BatchNorm2d(128),\n",
    "            nn.ReLU(True),\n",
    "            nn.Dropout(0.3),\n",
    "            nn.ConvTranspose2d(128, 64, 4, 2, 1, bias=False),   # Output: (64, 64, 64)\n",
    "            nn.BatchNorm2d(64),\n",
    "            nn.ReLU(True),\n",
    "            nn.ConvTranspose2d(64, 3, 3, 1, 1, bias=False),     # Output: (3, 64, 64)\n",
    "            nn.Tanh()\n",
    "        )\n",
    "\n",
    "    def forward(self, input):\n",
    "        return self.main(input)\n",
    "\n",
    "\n",
    "class Discriminator(nn.Module):\n",
    "    def __init__(self):\n",
    "        super(Discriminator, self).__init__()\n",
    "        self.main = nn.Sequential(\n",
    "            nn.Conv2d(3, 64, 4, 2, 1, bias=False),\n",
    "            nn.BatchNorm2d(64),\n",
    "            nn.LeakyReLU(0.2, inplace=True),\n",
    "            nn.Dropout(0.3),\n",
    "            nn.Conv2d(64, 128, 4, 2, 1, bias=False),\n",
    "            nn.BatchNorm2d(128),\n",
    "            nn.LeakyReLU(0.2, inplace=True),\n",
    "            nn.Dropout(0.3),\n",
    "            nn.Conv2d(128, 256, 4, 2, 1, bias=False),\n",
    "            nn.BatchNorm2d(256),\n",
    "            nn.LeakyReLU(0.2, inplace=True),\n",
    "            nn.Dropout(0.3),\n",
    "            nn.Conv2d(256, 512, 4, 2, 1, bias=False),\n",
    "            nn.BatchNorm2d(512),\n",
    "            nn.LeakyReLU(0.2, inplace=True),\n",
    "            nn.Dropout(0.3),\n",
    "            nn.Conv2d(512, 1024, 4, 2, 1, bias=False),\n",
    "            nn.BatchNorm2d(1024),\n",
    "            nn.LeakyReLU(0.2, inplace=True),\n",
    "            nn.Dropout(0.3)\n",
    "        )\n",
    "        self.fc = nn.Linear(1024 * 2 * 2, 1)\n",
    "        self.sigmoid = nn.Sigmoid()\n",
    "\n",
    "    def forward(self, input):\n",
    "        x = self.main(input)\n",
    "        x = x.view(x.size(0), -1)\n",
    "        x = self.fc(x)\n",
    "        x = self.sigmoid(x)\n",
    "        return x"
   ],
   "metadata": {
    "collapsed": false
   },
   "id": "bacc3a0d7bc513c"
  },
  {
   "cell_type": "code",
   "execution_count": null,
   "outputs": [],
   "source": [
    "nz = 256  # Size of z latent vector (i.e. size of generator input)\n",
    "device = torch.device(\"cuda\" if torch.cuda.is_available() else \"cpu\")\n",
    "print(device)\n",
    "\n",
    "fixed_noise = torch.randn(64, nz, 1, 1, device=device)\n",
    "\n",
    "netG = Generator(nz).to(device)\n",
    "netD = Discriminator().to(device)\n",
    "\n",
    "criterion = nn.BCELoss()\n",
    "\n",
    "optimizerD = optim.AdamW(netD.parameters(), lr=0.000001, betas=(0.2, 0.999))\n",
    "optimizerG = optim.AdamW(netG.parameters(), lr=0.00025, betas=(0.2, 0.999))"
   ],
   "metadata": {
    "collapsed": false
   },
   "id": "dacffe864b59e0c7"
  },
  {
   "cell_type": "code",
   "execution_count": null,
   "outputs": [],
   "source": [
    "from IPython.display import clear_output, display\n",
    "\n",
    "num_epochs = 500\n",
    "\n",
    "for epoch in range(num_epochs):\n",
    "    lossD_real = -1\n",
    "    lossD_fake = -1\n",
    "    lossG = -1\n",
    "    for i, data in enumerate(dataloader, 0):\n",
    "        real_images, labels = data\n",
    "        real_images = real_images.to(device)\n",
    "        labels = labels.to(device).float()  # Ensure labels are float\n",
    "\n",
    "        batch_size = real_images.size(0)\n",
    "        \n",
    "        # Label Smoothing for real images\n",
    "        real_labels = ((labels + 0.01) * .99).unsqueeze(1).to(device)  # Using the actual labels from the dataset, smoothed.\n",
    "        fake_labels = torch.full((batch_size,), 0.001, dtype=torch.float, device=device).unsqueeze(1)\n",
    "        \n",
    "        # Train Discriminator with real images\n",
    "        netD.zero_grad()\n",
    "        output_real = netD(real_images)\n",
    "        lossD_real = criterion(output_real, real_labels)\n",
    "        lossD_real.backward(retain_graph=True)\n",
    "        \n",
    "        # Train Discriminator with fake images\n",
    "        noise = torch.randn(batch_size, nz, 1, 1, device=device)\n",
    "        fake_images = netG(noise)\n",
    "        output_fake = netD(fake_images)\n",
    "        lossD_fake = criterion(output_fake, fake_labels)\n",
    "        lossD_fake.backward(retain_graph=True)\n",
    "        \n",
    "        optimizerD.step()\n",
    "        \n",
    "        # Train Generator\n",
    "        netG.zero_grad()\n",
    "        output_fake = netD(fake_images)\n",
    "        lossG = criterion(output_fake, torch.full((batch_size,), .999, dtype=torch.float, device=device).unsqueeze(1))\n",
    "        lossG.backward(retain_graph=True)\n",
    "        \n",
    "        optimizerG.step()\n",
    "    \n",
    "    # Save generated images for impactful display.\n",
    "    with torch.no_grad():\n",
    "        fake_images = netG(fixed_noise).detach().cpu()\n",
    "        \n",
    "    clear_output()\n",
    "    print(f'Epoch [{epoch}/{num_epochs}]\\n\\t'\n",
    "                  f'Loss D Real:\\t{lossD_real.item()}\\n\\t'\n",
    "                  f'Loss D Fake:\\t{lossD_fake.item()}\\n\\t'\n",
    "                  f'Loss D Total:\\t{lossD_real.item() + lossD_fake.item()}\\n\\t'\n",
    "                  f'Loss G:\\t{lossG.item()}\\n\\t'\n",
    "                  f'Loss Total:\\t{lossD_real.item() + lossD_fake.item() + lossG.item()}')\n",
    "    img_epoch = (epoch+1) if (epoch+1) % 5 == 0 else \"latest\"\n",
    "    save_image(fake_images, f'artifact/generated/epoch_{img_epoch}.png', normalize=True)\n",
    "    display(Image.open(f'artifact/generated/epoch_{img_epoch}.png'))"
   ],
   "metadata": {
    "collapsed": false
   },
   "id": "dd937ca37041fd55"
  },
  {
   "cell_type": "code",
   "execution_count": null,
   "outputs": [],
   "source": [],
   "metadata": {
    "collapsed": false
   },
   "id": "b4b3773c2c8a6c96"
  }
 ],
 "metadata": {
  "kernelspec": {
   "display_name": "Python 3",
   "language": "python",
   "name": "python3"
  },
  "language_info": {
   "codemirror_mode": {
    "name": "ipython",
    "version": 2
   },
   "file_extension": ".py",
   "mimetype": "text/x-python",
   "name": "python",
   "nbconvert_exporter": "python",
   "pygments_lexer": "ipython2",
   "version": "2.7.6"
  }
 },
 "nbformat": 4,
 "nbformat_minor": 5
}
